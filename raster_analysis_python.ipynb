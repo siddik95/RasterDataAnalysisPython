{
 "cells": [
  {
   "cell_type": "code",
   "execution_count": 1,
   "id": "8f46aa0e-c361-4acc-8b6f-9ca42b612152",
   "metadata": {},
   "outputs": [],
   "source": [
    "import pandas as pd\n",
    "import numpy as np\n",
    "import os\n",
    "import geopandas as gpd\n",
    "import rasterio"
   ]
  },
  {
   "cell_type": "code",
   "execution_count": 3,
   "id": "e445f211-de87-4a96-9912-8833e7027f0f",
   "metadata": {},
   "outputs": [],
   "source": [
    "nlcd = r\"F:\\onedrive\\OneDrive - University of Central Florida\\NLCD\\Annual_NLCD_LndCov_2020_CU_C1V0.tif\""
   ]
  },
  {
   "cell_type": "code",
   "execution_count": 4,
   "id": "3a11f6d5-2b0b-491a-9c64-90ca2d5338d1",
   "metadata": {},
   "outputs": [],
   "source": [
    "import rasterio\n",
    "from rasterio.warp import calculate_default_transform, reproject"
   ]
  },
  {
   "cell_type": "code",
   "execution_count": 5,
   "id": "4bd2475f-6936-47f6-b6f6-ee92126d1d2d",
   "metadata": {},
   "outputs": [],
   "source": [
    "target_crs = \"EPSG:4326\"\n",
    "def reproject_raster(input_path, output_path, target_crs):\n",
    "    # Open the input raster file\n",
    "    with rasterio.open(input_path) as src:\n",
    "        # Calculate the transform and dimensions for the target CRS\n",
    "        transform, width, height = calculate_default_transform(\n",
    "            src.crs, target_crs, src.width, src.height, *src.bounds)\n",
    "        \n",
    "        # Update metadata with new CRS and dimensions\n",
    "        metadata = src.meta.copy()\n",
    "        metadata.update({\n",
    "            'crs': target_crs,\n",
    "            'transform': transform,\n",
    "            'width': width,\n",
    "            'height': height\n",
    "        })\n",
    "        \n",
    "        # Create the output raster file with the new CRS\n",
    "        with rasterio.open(output_path, 'w', **metadata) as dst:\n",
    "            # Reproject the data\n",
    "            for i in range(1, src.count + 1):  # Loop over each band\n",
    "                reproject(\n",
    "                    source=rasterio.band(src, i),\n",
    "                    destination=rasterio.band(dst, i),\n",
    "                    src_transform=src.transform,\n",
    "                    src_crs=src.crs,\n",
    "                    dst_transform=transform,\n",
    "                    dst_crs=target_crs\n",
    "                )\n"
   ]
  },
  {
   "cell_type": "code",
   "execution_count": 6,
   "id": "96351363-a0e2-462f-8dbc-7e2491850244",
   "metadata": {},
   "outputs": [],
   "source": [
    "output_path1 = r\"F:\\onedrive\\OneDrive - University of Central Florida\\NLCD\\florida_nlcd_proj.tif\"\n",
    "reproject_raster(nlcd, output_path1, target_crs)"
   ]
  },
  {
   "cell_type": "code",
   "execution_count": 27,
   "id": "8b99e4a1-1396-4056-b930-595101e063fa",
   "metadata": {},
   "outputs": [
    {
     "name": "stdout",
     "output_type": "stream",
     "text": [
      "EPSG:4326\n",
      "BoundingBox(left=-129.27731989810934, bottom=21.805036235947423, right=-63.118461597579426, top=52.9217197338581)\n"
     ]
    }
   ],
   "source": [
    "with rasterio.open(output_path1) as src:\n",
    "    print(src.crs)\n",
    "    print(src.bounds)\n"
   ]
  },
  {
   "cell_type": "code",
   "execution_count": 21,
   "id": "0cde6551-51af-46e4-8cf6-3b832d145ac4",
   "metadata": {},
   "outputs": [
    {
     "name": "stdout",
     "output_type": "stream",
     "text": [
      "EPSG:4326\n"
     ]
    }
   ],
   "source": [
    "if gdf.crs.to_epsg() != 4326:\n",
    "    gdf = gdf.to_crs(epsg=4326)\n",
    "print(gdf.crs)\n"
   ]
  },
  {
   "cell_type": "code",
   "execution_count": 11,
   "id": "650250d3-b508-435d-9da8-37142091af9b",
   "metadata": {},
   "outputs": [
    {
     "name": "stdout",
     "output_type": "stream",
     "text": [
      "[11, 12, 21, 22, 23, 24, 31, 41, 42, 43, 52, 71, 81, 82, 90, 95, 250]\n"
     ]
    }
   ],
   "source": [
    "import rasterio\n",
    "import numpy as np\n",
    "\n",
    "output_path1 = r\"F:\\onedrive\\OneDrive - University of Central Florida\\NLCD\\florida_nlcd_proj.tif\"\n",
    "\n",
    "# Open the raster file\n",
    "with rasterio.open(output_path1) as src:\n",
    "    unique_values = set()  # To store unique values in the raster\n",
    "\n",
    "    # Loop through raster blocks\n",
    "    for ji, window in src.block_windows(1):  # Iterating over blocks of the first band\n",
    "        # Read the data for this block\n",
    "        data = src.read(1, window=window)\n",
    "\n",
    "        # Add unique values from this block to the set\n",
    "        unique_values.update(np.unique(data))\n",
    "\n",
    "    # Convert the set to a sorted list (optional)\n",
    "    print(sorted(unique_values))\n"
   ]
  },
  {
   "cell_type": "code",
   "execution_count": 30,
   "id": "6f70af58-5df8-4807-a04a-e9f0246d7919",
   "metadata": {},
   "outputs": [],
   "source": [
    "import numpy as np\n",
    "import rasterio\n",
    "from rasterio.mask import mask\n",
    "\n",
    "reclass_map = {\n",
    "    11: 1, 12: 1,   # Water\n",
    "    21: 2, 22: 2, 23: 2, 24: 2,  # Developed\n",
    "    31: 3,   # Barren\n",
    "    41: 4, 42: 4, 43: 4,  # Forest\n",
    "    52: 5,   # Shrubland\n",
    "    71: 6,   # Grassland\n",
    "    81: 7,  # Pasture\n",
    "    82: 8,  # Agriculture\n",
    "    90: 9, 95: 9,  # Wetlands\n",
    "}\n",
    "output_path1 = r\"F:\\onedrive\\OneDrive - University of Central Florida\\NLCD\\florida_nlcd_proj.tif\"\n",
    "output_path = r\"F:\\onedrive\\OneDrive - University of Central Florida\\NLCD\\reclassified_florida_nlcd.tif\"\n",
    "gdf = gpd.read_file(r\"F:\\onedrive\\OneDrive - University of Central Florida\\Florida_shp\\Florida_county.shp\")\n",
    "nodata_value = 250  # Set the no-data value\n",
    "with rasterio.open(output_path1) as src:\n",
    "    geom = [gdf.geometry.unary_union]  # Geometry for masking\n",
    "    out_image, out_transform = mask(src, geom, crop=True)\n",
    "    \n",
    "    # Reclassify raster while preserving no-data value (250)\n",
    "    reclassified = np.where(out_image[0] == nodata_value, nodata_value,  # Preserve no-data pixels as 250\n",
    "                            np.vectorize(lambda x: reclass_map.get(x, 0))(out_image[0]))  # Apply reclassification\n",
    "\n",
    "    # Update metadata\n",
    "    out_meta = src.meta.copy()\n",
    "    out_meta.update({\n",
    "        'driver': 'GTiff',\n",
    "        'height': reclassified.shape[0],\n",
    "        'width': reclassified.shape[1],\n",
    "        'transform': out_transform,\n",
    "        'dtype': 'uint8',\n",
    "        'nodata': nodata_value  # Set the no-data value in metadata\n",
    "    })\n",
    "\n",
    "    # Save the reclassified raster with updated metadata\n",
    "    with rasterio.open(output_path, \"w\", **out_meta) as dst:\n",
    "        dst.write(reclassified, 1)\n"
   ]
  },
  {
   "cell_type": "code",
   "execution_count": 33,
   "id": "e5977e68-fdb9-4d88-af1f-c9b051868a1d",
   "metadata": {},
   "outputs": [
    {
     "name": "stdout",
     "output_type": "stream",
     "text": [
      "250.0\n",
      "Class 1: 16.71\n",
      "Class 2: 14.70\n",
      "Class 3: 0.61\n",
      "Class 4: 15.55\n",
      "Class 5: 2.40\n",
      "Class 6: 2.39\n",
      "Class 7: 10.90\n",
      "Class 8: 5.29\n",
      "Class 9: 31.45\n"
     ]
    }
   ],
   "source": [
    "\n",
    "# Open the reclassified raster\n",
    "with rasterio.open(output_path) as src:\n",
    "    data = src.read(1)  # Read the first band\n",
    "    nodata = src.nodata  # Get the no-data value\n",
    "\n",
    "# Mask out no-data values\n",
    "valid_pixels = data[data != nodata]\n",
    "\n",
    "# Compute unique class counts\n",
    "unique, counts = np.unique(valid_pixels, return_counts=True)\n",
    "\n",
    "# Compute class ratios\n",
    "total_valid = counts.sum()\n",
    "class_ratios = {cls: (count / total_valid)*100 for cls, count in zip(unique, counts)}\n",
    "\n",
    "# Print class ratios\n",
    "for cls, ratio in class_ratios.items():\n",
    "    print(f\"Class {cls}: {ratio:.2f}\")"
   ]
  },
  {
   "cell_type": "code",
   "execution_count": null,
   "id": "62ea8eca-dd90-49fe-8823-2d0299c05cf5",
   "metadata": {},
   "outputs": [],
   "source": [
    "import rasterio\n",
    "import geopandas as gpd\n",
    "import numpy as np\n",
    "from rasterio.mask import mask\n",
    "\n",
    "\n",
    "# Reproject to EPSG:3086 if needed\n",
    "if gdf.crs.to_epsg() != 4326:\n",
    "    gdf = gdf.to_crs(epsg=4326)\n",
    "\n",
    "# Open raster\n",
    "with rasterio.open(output_path) as src:\n",
    "    results = []\n",
    "\n",
    "    for _, county in gdf.iterrows():\n",
    "        county_name = county[\"NAME\"]  # Adjust this field based on actual column name\n",
    "        geom = [county.geometry]  # Convert to list format for rasterio.mask\n",
    "\n",
    "        # Mask the raster with the county geometry\n",
    "        try:\n",
    "            out_image, out_transform = mask(src, geom, crop=True)\n",
    "            out_meta = src.meta.copy()\n",
    "            out_meta.update({\n",
    "            'driver': 'GTiff',\n",
    "            'height': out_image.shape[1],\n",
    "            'width' : out_image.shape[2],\n",
    "            'transform': out_transform     \n",
    "            })\n",
    "            data = out_image[0]  # Extract band 1\n",
    "        except Exception as e:\n",
    "            print(f\"Skipping {county_name}: {e}\")\n",
    "            continue\n",
    "\n",
    "        # Remove no-data values\n",
    "        nodata = src.nodata\n",
    "        valid_pixels = data[data != nodata]\n",
    "\n",
    "        if valid_pixels.size > 0:\n",
    "            # Compute unique class counts\n",
    "            unique, counts = np.unique(valid_pixels, return_counts=True)\n",
    "            total_valid = counts.sum()\n",
    "\n",
    "            # Compute class ratios\n",
    "            class_ratios = {cls: count / total_valid for cls, count in zip(unique, counts)}\n",
    "\n",
    "            # Store results\n",
    "            results.append({\"County\": county_name, \"Class Ratios\": class_ratios})\n",
    "        else: print(county_name)\n",
    "\n",
    "# Print results\n",
    "for res in results:\n",
    "    print(f\"County: {res['County']}\")\n",
    "    for cls, ratio in res[\"Class Ratios\"].items():\n",
    "        print(f\"  Class {cls}: {ratio:.4f}\")\n"
   ]
  },
  {
   "cell_type": "code",
   "execution_count": 38,
   "id": "c8b03cd1-39db-40a4-be3b-defa0e305002",
   "metadata": {},
   "outputs": [],
   "source": [
    "result = pd.DataFrame(results)"
   ]
  },
  {
   "cell_type": "code",
   "execution_count": null,
   "id": "a8067842-9382-447a-a8c5-9b8c9056a523",
   "metadata": {},
   "outputs": [],
   "source": [
    "# Convert the dictionary in each row to separate columns\n",
    "df_expanded = pd.json_normalize(result['Class Ratios'])\n",
    "\n",
    "# Optionally, concatenate this expanded DataFrame back to the original DataFrame\n",
    "result = pd.concat([result, df_expanded], axis=1)\n",
    "\n",
    "# Drop the original dictionary column if it's no longer needed\n",
    "result.drop(columns=['Class Ratios'], inplace=True)\n"
   ]
  },
  {
   "cell_type": "code",
   "execution_count": 45,
   "id": "4041e2bb-6024-4be7-82a6-94591905ac95",
   "metadata": {},
   "outputs": [],
   "source": [
    "result.to_csv(r\"F:\\onedrive\\OneDrive - University of Central Florida\\NLCD\\florida_nlcd.csv\", index = False)"
   ]
  }
 ],
 "metadata": {
  "kernelspec": {
   "display_name": "geospatial",
   "language": "python",
   "name": "geospatial"
  },
  "language_info": {
   "codemirror_mode": {
    "name": "ipython",
    "version": 3
   },
   "file_extension": ".py",
   "mimetype": "text/x-python",
   "name": "python",
   "nbconvert_exporter": "python",
   "pygments_lexer": "ipython3",
   "version": "3.11.7"
  }
 },
 "nbformat": 4,
 "nbformat_minor": 5
}
